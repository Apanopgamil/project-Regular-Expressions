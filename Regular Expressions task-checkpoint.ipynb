{
 "cells": [
  {
   "cell_type": "code",
   "execution_count": 9,
   "id": "ac3a5988",
   "metadata": {},
   "outputs": [
    {
     "name": "stdout",
     "output_type": "stream",
     "text": [
      "Apanop gamil  01271339244 apanoppop2000@gamil.com\n",
      "Ali ahmed     01555525047 aliahmed545@gmail.com\n",
      "Mohamed salah 01136245875 mosalah514@gmail.com\n",
      "Ahmed mohamed   01056957425 ahmedmooo55@gmail.com\n",
      "Yousef saad  01136455632 yousefsaad@gmail.com\n",
      "Mena gamil    01254997966 menagamil@gmail.com\n",
      "Kamel ali   01526543020 kamelali256@gmail.com\n",
      "Eman mohamed    01025364589 emanmohamed6@gmail.com\n",
      "\n",
      "\n"
     ]
    }
   ],
   "source": [
    "my_file=open(\"pop.txt\",\"r\")\n",
    "print(my_file.read())"
   ]
  },
  {
   "cell_type": "code",
   "execution_count": 10,
   "id": "d17a87b2",
   "metadata": {},
   "outputs": [
    {
     "name": "stdout",
     "output_type": "stream",
     "text": [
      "Names : \n"
     ]
    },
    {
     "data": {
      "text/plain": [
       "['Apanop gamil',\n",
       " 'Ali ahmed',\n",
       " 'Mohamed salah',\n",
       " 'Ahmed mohamed',\n",
       " 'Yousef saad',\n",
       " 'Mena gamil',\n",
       " 'Kamel ali',\n",
       " 'Eman mohamed']"
      ]
     },
     "execution_count": 10,
     "metadata": {},
     "output_type": "execute_result"
    }
   ],
   "source": [
    "with open (\"pop.txt\" , \"r\" ) as file:\n",
    "    x = file.read().strip()\n",
    "import re\n",
    "pattern = re.compile('[A-Z][a-z]+\\s[a-z]+')\n",
    "matches = pattern.finditer(x)\n",
    "names =[]\n",
    "print(\"Names : \")\n",
    "for i in matches :\n",
    "    names.append(x[i.span()[0] : i.span()[1]])\n",
    "names"
   ]
  },
  {
   "cell_type": "code",
   "execution_count": 6,
   "id": "cf8b8f3c",
   "metadata": {},
   "outputs": [
    {
     "name": "stdout",
     "output_type": "stream",
     "text": [
      "phone numpers :\n"
     ]
    },
    {
     "data": {
      "text/plain": [
       "['01271339244',\n",
       " '01555525047',\n",
       " '01136245875',\n",
       " '01056957425',\n",
       " '01136455632',\n",
       " '01254997966',\n",
       " '01526543020',\n",
       " '01025364589']"
      ]
     },
     "execution_count": 6,
     "metadata": {},
     "output_type": "execute_result"
    }
   ],
   "source": [
    "pattern = re.compile('01\\d+')\n",
    "matches = pattern.finditer(x)\n",
    "phonenumper =[]\n",
    "print(\"phone numpers :\")\n",
    "for i in matches:\n",
    "    phonenumper.append(x[i.span()[0] : i.span()[1]])\n",
    "phonenumper"
   ]
  },
  {
   "cell_type": "code",
   "execution_count": 7,
   "id": "bb0bb509",
   "metadata": {},
   "outputs": [
    {
     "name": "stdout",
     "output_type": "stream",
     "text": [
      "Emiles : \n"
     ]
    },
    {
     "data": {
      "text/plain": [
       "['apanoppop2000@gamil.com',\n",
       " 'aliahmed545@gmail.com',\n",
       " 'mosalah514@gmail.com',\n",
       " 'ahmedmooo55@gmail.com',\n",
       " 'yousefsaad@gmail.com',\n",
       " 'menagamil@gmail.com',\n",
       " 'kamelali256@gmail.com',\n",
       " 'emanmohamed6@gmail.com']"
      ]
     },
     "execution_count": 7,
     "metadata": {},
     "output_type": "execute_result"
    }
   ],
   "source": [
    "pattern = re.compile('[A-Za-z\\w]+@[A-Za-z\\w]+\\.com')\n",
    "matches = pattern.finditer(x)\n",
    "emiles =[]\n",
    "print(\"Emiles : \")\n",
    "for i in matches :\n",
    "    emiles.append(x[i.span()[0] : i.span()[1]])\n",
    "emiles"
   ]
  },
  {
   "cell_type": "code",
   "execution_count": null,
   "id": "a5fcaecb",
   "metadata": {},
   "outputs": [],
   "source": []
  }
 ],
 "metadata": {
  "kernelspec": {
   "display_name": "Python 3 (ipykernel)",
   "language": "python",
   "name": "python3"
  },
  "language_info": {
   "codemirror_mode": {
    "name": "ipython",
    "version": 3
   },
   "file_extension": ".py",
   "mimetype": "text/x-python",
   "name": "python",
   "nbconvert_exporter": "python",
   "pygments_lexer": "ipython3",
   "version": "3.9.13"
  }
 },
 "nbformat": 4,
 "nbformat_minor": 5
}
